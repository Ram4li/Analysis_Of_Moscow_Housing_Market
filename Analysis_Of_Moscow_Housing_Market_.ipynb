{
 "cells": [
  {
   "cell_type": "markdown",
   "metadata": {},
   "source": [
    "# Финальный проект по анализу данных"
   ]
  },
  {
   "cell_type": "markdown",
   "metadata": {},
   "source": [
    "# Описание проекта"
   ]
  },
  {
   "cell_type": "markdown",
   "metadata": {},
   "source": [
    "Этот проект направлен на анализ Moscow residential real estate рынка, используя данные с сайта Циан. Мы проверим различные гипотезы о факторах, влияющих на цены на недвижимость, и применим методы машинного обучения для построения моделей предсказания цен. В ходе проекта используется большинство технологий, пройденных в течение курса.\n",
    "\n"
   ]
  },
  {
   "cell_type": "markdown",
   "metadata": {},
   "source": [
    "# Гипотезы исследования"
   ]
  },
  {
   "cell_type": "markdown",
   "metadata": {},
   "source": [
    "1) Чем ближе здание к метро, тем больше оно стоит по сравнению с соседями;\n",
    "\n",
    "2) Чем раньше здание было построено, тем меньше оно стоит по сравнению с соседями;\n",
    "\n",
    "3) Внутри третьего транспортного кольца цены выше;\n",
    "\n",
    "4) Внутри третьего транспортного кольца цены выше;\n",
    "\n",
    "5) Внутри садового кольца цены выше чем внутри третьего;\n",
    "\n",
    "6) Площадь и этаж положительно коррелированы с цены на жилье;"
   ]
  },
  {
   "cell_type": "markdown",
   "metadata": {},
   "source": [
    "# 0. Импорт библиотек\n"
   ]
  },
  {
   "cell_type": "code",
   "execution_count": 4,
   "metadata": {},
   "outputs": [
    {
     "ename": "ImportError",
     "evalue": "Unable to import required dependencies:\nnumpy: Error importing numpy: you should not try to import numpy from\n        its source directory; please exit the numpy source tree, and relaunch\n        your python interpreter from there.",
     "output_type": "error",
     "traceback": [
      "\u001b[0;31m---------------------------------------------------------------------------\u001b[0m",
      "\u001b[0;31mImportError\u001b[0m                               Traceback (most recent call last)",
      "\u001b[1;32m/Users/ram4_li/c++ projects/Analysis_Of_Moscow_Housing_Market_.ipynb Cell 6\u001b[0m line \u001b[0;36m2\n\u001b[1;32m      <a href='vscode-notebook-cell:/Users/ram4_li/c%2B%2B%20projects/Analysis_Of_Moscow_Housing_Market_.ipynb#X10sZmlsZQ%3D%3D?line=0'>1</a>\u001b[0m \u001b[39mimport\u001b[39;00m \u001b[39mrequests\u001b[39;00m\n\u001b[0;32m----> <a href='vscode-notebook-cell:/Users/ram4_li/c%2B%2B%20projects/Analysis_Of_Moscow_Housing_Market_.ipynb#X10sZmlsZQ%3D%3D?line=1'>2</a>\u001b[0m \u001b[39mimport\u001b[39;00m \u001b[39mpandas\u001b[39;00m \u001b[39mas\u001b[39;00m \u001b[39mpd\u001b[39;00m\n\u001b[1;32m      <a href='vscode-notebook-cell:/Users/ram4_li/c%2B%2B%20projects/Analysis_Of_Moscow_Housing_Market_.ipynb#X10sZmlsZQ%3D%3D?line=2'>3</a>\u001b[0m \u001b[39mimport\u001b[39;00m \u001b[39mnumpy\u001b[39;00m \u001b[39mas\u001b[39;00m \u001b[39mnp\u001b[39;00m\n\u001b[1;32m      <a href='vscode-notebook-cell:/Users/ram4_li/c%2B%2B%20projects/Analysis_Of_Moscow_Housing_Market_.ipynb#X10sZmlsZQ%3D%3D?line=3'>4</a>\u001b[0m \u001b[39mimport\u001b[39;00m \u001b[39mmatplotlib\u001b[39;00m\u001b[39m.\u001b[39;00m\u001b[39mpyplot\u001b[39;00m \u001b[39mas\u001b[39;00m \u001b[39mplt\u001b[39;00m\n",
      "File \u001b[0;32m/Library/Frameworks/Python.framework/Versions/3.11/lib/python3.11/site-packages/pandas/__init__.py:16\u001b[0m\n\u001b[1;32m     13\u001b[0m         _missing_dependencies\u001b[39m.\u001b[39mappend(\u001b[39mf\u001b[39m\u001b[39m\"\u001b[39m\u001b[39m{\u001b[39;00m_dependency\u001b[39m}\u001b[39;00m\u001b[39m: \u001b[39m\u001b[39m{\u001b[39;00m_e\u001b[39m}\u001b[39;00m\u001b[39m\"\u001b[39m)\n\u001b[1;32m     15\u001b[0m \u001b[39mif\u001b[39;00m _missing_dependencies:  \u001b[39m# pragma: no cover\u001b[39;00m\n\u001b[0;32m---> 16\u001b[0m     \u001b[39mraise\u001b[39;00m \u001b[39mImportError\u001b[39;00m(\n\u001b[1;32m     17\u001b[0m         \u001b[39m\"\u001b[39m\u001b[39mUnable to import required dependencies:\u001b[39m\u001b[39m\\n\u001b[39;00m\u001b[39m\"\u001b[39m \u001b[39m+\u001b[39m \u001b[39m\"\u001b[39m\u001b[39m\\n\u001b[39;00m\u001b[39m\"\u001b[39m\u001b[39m.\u001b[39mjoin(_missing_dependencies)\n\u001b[1;32m     18\u001b[0m     )\n\u001b[1;32m     19\u001b[0m \u001b[39mdel\u001b[39;00m _hard_dependencies, _dependency, _missing_dependencies\n\u001b[1;32m     21\u001b[0m \u001b[39mtry\u001b[39;00m:\n\u001b[1;32m     22\u001b[0m     \u001b[39m# numpy compat\u001b[39;00m\n",
      "\u001b[0;31mImportError\u001b[0m: Unable to import required dependencies:\nnumpy: Error importing numpy: you should not try to import numpy from\n        its source directory; please exit the numpy source tree, and relaunch\n        your python interpreter from there."
     ]
    }
   ],
   "source": [
    "!pip install requests\n",
    "!pip install selenium\n",
    "!pip install beautifulsoup4\n",
    "!pip install pandas\n",
    "!pip install matplotlib\n",
    "!pip install seaborn\n",
    "!pip install scikit-learn\n",
    "!pip install catboost\n",
    "!pip install lightgbm\n",
    "\n",
    "import requests\n",
    "import pandas as pd\n",
    "import numpy as np\n",
    "import matplotlib.pyplot as plt\n",
    "import seaborn as sns\n",
    "from bs4 import BeautifulSoup\n",
    "from selenium import webdriver\n",
    "from selenium.webdriver.common.by import By\n",
    "import time\n",
    "from sklearn.model_selection import train_test_split\n",
    "from sklearn.preprocessing import StandardScaler\n",
    "from sklearn.linear_model import LinearRegression\n",
    "from sklearn.metrics import mean_absolute_error as MAE\n",
    "from catboost import CatBoostRegressor\n",
    "from sklearn.ensemble import GradientBoostingRegressor\n",
    "import lightgbm as ltb\n",
    "import geopandas as gpd\n",
    "import networkx as nx\n",
    "import folium\n",
    "import statsmodels.api as sm"
   ]
  },
  {
   "cell_type": "markdown",
   "metadata": {},
   "source": [
    "# 1. Web-scrapping с помощью пакета Selenium"
   ]
  },
  {
   "cell_type": "markdown",
   "metadata": {},
   "source": [
    "1.  Настройка Selenium"
   ]
  },
  {
   "cell_type": "code",
   "execution_count": null,
   "metadata": {},
   "outputs": [],
   "source": [
    "# Настройка драйвера Selenium\n",
    "options = webdriver.ChromeOptions()\n",
    "options.add_argument(\"--headless\")\n",
    "options.add_argument('--disable-dev-shm-usage')\n",
    "options.add_argument(\"--no-sandbox\")\n",
    "\n",
    "driver = webdriver.Chrome(options=options)\n",
    "\n",
    "# Функция для нахождения кнопки по ID и нажатия на нее\n",
    "def repetitive(browser, ID): \n",
    "    webElement = browser.find_element(By.ID, ID)\n",
    "    browser.execute_script(\"arguments[0].click();\", webElement)\n",
    "    time.sleep(5)\n",
    "\n"
   ]
  },
  {
   "cell_type": "markdown",
   "metadata": {},
   "source": [
    "2. Scrapping from Циан website"
   ]
  },
  {
   "cell_type": "code",
   "execution_count": null,
   "metadata": {},
   "outputs": [],
   "source": [
    "def scrape_cian_data(page_num):\n",
    "    base_url = f\"https://www.cian.ru/cat.php?deal_type=sale&engine_version=2&offer_type=flat&p={page_num}&region=1\"\n",
    "    driver.get(base_url)\n",
    "    time.sleep(5)  # Задержка для загрузки страницы\n",
    "    html = driver.page_source\n",
    "    soup = BeautifulSoup(html, \"html.parser\")\n",
    "    listings = soup.find_all('div', class_='c6e8ba5398--content--2l76p')\n",
    "\n",
    "    data = []\n",
    "    for listing in listings:\n",
    "        try:\n",
    "            price = listing.find('span', class_='c6e8ba5398--price_value--1Sj13').text\n",
    "            location = listing.find('div', class_='c6e8ba5398--labels--3lwGq').text\n",
    "            title = listing.find('span', class_='c6e8ba5398--address-links--1tfGW').text\n",
    "            link = listing.find('a', class_='c6e8ba5398--header--1fV2A')['href']\n",
    "            data.append([price, location, title, link])\n",
    "        except AttributeError:\n",
    "            continue\n",
    "\n",
    "    return data\n",
    "\n",
    "def collect_cian_data(num_pages):\n",
    "    all_data = []\n",
    "    for page in range(1, num_pages + 1):\n",
    "        all_data.extend(scrape_cian_data(page))\n",
    "    return all_data\n",
    "\n",
    "df_real_estate = pd.DataFrame(collect_cian_data(5), columns=['Price', 'Location', 'Title', 'Link'])\n",
    "driver.quit()\n"
   ]
  },
  {
   "cell_type": "markdown",
   "metadata": {},
   "source": [
    "3. Обработка данных"
   ]
  },
  {
   "cell_type": "code",
   "execution_count": null,
   "metadata": {},
   "outputs": [],
   "source": [
    "# Очистка данных и обработка пропусков\n",
    "df_real_estate['Price'] = df_real_estate['Price'].str.replace('\\D', '').astype(int)\n",
    "df_real_estate.dropna(inplace=True)\n",
    "\n",
    "# Обнаружение и обработка выбросов\n",
    "Q1 = df_real_estate['Price'].quantile(0.25)\n",
    "Q3 = df_real_estate['Price'].quantile(0.75)\n",
    "IQR = Q3 - Q1\n",
    "df_real_estate = df_real_estate[~((df_real_estate['Price'] < (Q1 - 1.5 * IQR)) | (df_real_estate['Price'] > (Q3 + 1.5 * IQR)))]\n",
    "\n",
    "# Добавление признаков \"Within Garden Ring\" и \"Within TTK\"\n",
    "df_real_estate['Within_Garden_Ring'] = df_real_estate['Location'].apply(lambda x: 1 if 'Садовое кольцо' in x else 0)\n",
    "df_real_estate['Within_TTK'] = df_real_estate['Location'].apply(lambda x: 1 if 'Третье транспортное кольцо' in x else 0)"
   ]
  },
  {
   "cell_type": "markdown",
   "metadata": {},
   "source": [
    "4. Анализ данных и проверка гипотез"
   ]
  },
  {
   "cell_type": "code",
   "execution_count": null,
   "metadata": {},
   "outputs": [],
   "source": [
    "# Добавление признака Distance_to_Metro для примера\n",
    "np.random.seed(42)\n",
    "df_real_estate['Distance_to_Metro'] = np.random.randint(1, 10, size=len(df_real_estate))\n",
    "\n",
    "# Гипотеза 1: Зависимость цен на недвижимость от близости к метро\n",
    "plt.figure(figsize=(10, 6))\n",
    "sns.scatterplot(x='Distance_to_Metro', y='Price', data=df_real_estate)\n",
    "plt.title('Зависимость цен на недвижимость от близости к метро')\n",
    "plt.show()\n",
    "\n",
    "# Добавление фиктивного признака Building_Age для примера\n",
    "df_real_estate['Building_Age'] = np.random.randint(1, 100, size=len(df_real_estate))\n",
    "\n",
    "# Гипотеза 2: Зависимость цен на недвижимость от возраста здания\n",
    "plt.figure(figsize=(10, 6))\n",
    "sns.scatterplot(x='Building_Age', y='Price', data=df_real_estate)\n",
    "plt.title('Зависимость цен на недвижимость от возраста здания')\n",
    "plt.show()\n",
    "\n",
    "# Дополнительный анализ: Внутри и вне Садового кольца\n",
    "\n",
    "inside_sadovoe_df = df_real_estate[df_real_estate['Within_Garden_Ring'] == 1]\n",
    "outside_sadovoe_inside_ttk_df = df_real_estate[(df_real_estate['Within_Garden_Ring'] == 0) & (df_real_estate['Within_TTK'] == 1)]\n",
    "\n",
    "fig = plt.figure(figsize=(16, 8))\n",
    "\n",
    "plt1 = fig.add_subplot(1, 2, 1)\n",
    "plt2 = fig.add_subplot(1, 2, 2)\n",
    "\n",
    "plt1.plot(inside_sadovoe_df['Distance_to_Metro'], inside_sadovoe_df['Price'], 'r.', alpha=0.7)\n",
    "plt1.set_xlabel('Близость к метро', fontsize=14)\n",
    "plt1.set_ylabel('Цена', fontsize=14)\n",
    "plt1.set_title('График рассеяния: Внутри Садового кольца - Цена vs. Близость к метро', weight='bold', fontsize=14)\n",
    "plt1.set_facecolor('whitesmoke')\n",
    "plt1.grid(True)\n",
    "coeffs = np.polyfit(inside_sadovoe_df['Distance_to_Metro'], inside_sadovoe_df['Price'], 1)\n",
    "poly_line = np.poly1d(coeffs)\n",
    "plt1.plot(inside_sadovoe_df['Distance_to_Metro'], poly_line(inside_sadovoe_df['Distance_to_Metro']), color='black')\n",
    "\n",
    "plt2.plot(outside_sadovoe_inside_ttk_df['Distance_to_Metro'], outside_sadovoe_inside_ttk_df['Price'], 'r.', alpha=0.7)\n",
    "plt2.set_xlabel('Близость к метро', fontsize=14)\n",
    "plt2.set_ylabel('Цена', fontsize=14)\n",
    "plt2.set_title('График рассеяния: Вне Садового кольца, но в пределах Третьего транспортного кольца - Цена vs. Близость к метро', weight='bold', fontsize=14)\n",
    "plt2.set_facecolor('whitesmoke')\n",
    "plt2.grid(True)\n",
    "coeffs = np.polyfit(outside_sadovoe_inside_ttk_df['Distance_to_Metro'], outside_sadovoe_inside_ttk_df['Price'], 1)\n",
    "poly_line = np.poly1d(coeffs)\n",
    "plt2.plot(outside_sadovoe_inside_ttk_df['Distance_to_Metro'], poly_line(outside_sadovoe_inside_ttk_df['Distance_to_Metro']), color='black')\n",
    "\n",
    "plt.show()"
   ]
  },
  {
   "cell_type": "markdown",
   "metadata": {},
   "source": [
    "5. Моделирование"
   ]
  },
  {
   "cell_type": "code",
   "execution_count": null,
   "metadata": {},
   "outputs": [],
   "source": [
    "# Подготовка данных для моделирования\n",
    "X = df_real_estate[['Size', 'Distance_to_Metro', 'Building_Age', 'Within_TTK', 'Within_Garden_Ring', 'Floor']]\n",
    "y = df_real_estate['Price']\n",
    "\n",
    "X_train, X_test, y_train, y_test = train_test_split(X, y, test_size=0.2, random_state=42)\n",
    "\n",
    "# Стандартизация данных\n",
    "scaler = StandardScaler()\n",
    "X_train_scaled = scaler.fit_transform(X_train)\n",
    "X_test_scaled = scaler.transform(X_test)\n",
    "\n",
    "# Модель линейной регрессии\n",
    "lr = LinearRegression()\n",
    "lr.fit(X_train_scaled, y_train)\n",
    "y_pred_lr = lr.predict(X_test_scaled)\n",
    "print(f'Linear Regression MAE: {MAE(y_test, y_pred_lr)}')\n",
    "\n",
    "# Модель CatBoost\n",
    "catboost = CatBoostRegressor(verbose=0)\n",
    "catboost.fit(X_train_scaled, y_train)\n",
    "y_pred_catboost = catboost.predict(X_test_scaled)\n",
    "print(f'CatBoost MAE: {MAE(y_test, y_pred_catboost)}')\n",
    "\n",
    "# Модель Gradient Boosting\n",
    "gbr = GradientBoostingRegressor()\n",
    "gbr.fit(X_train_scaled, y_train)\n",
    "y_pred_gbr = gbr.predict(X_test_scaled)\n",
    "print(f'Gradient Boosting MAE: {MAE(y_test, y_pred_gbr)}')\n",
    "\n",
    "# Модель LightGBM\n",
    "ltb_model = ltb.LGBMRegressor()\n",
    "ltb_model.fit(X_train_scaled, y_train)\n",
    "y_pred_ltb = ltb_model.predict(X_test_scaled)\n",
    "print(f'LightGBM MAE: {MAE(y_test, y_pred_ltb)}')\n"
   ]
  },
  {
   "cell_type": "markdown",
   "metadata": {},
   "source": [
    "6. Визуализация данных"
   ]
  },
  {
   "cell_type": "code",
   "execution_count": null,
   "metadata": {},
   "outputs": [],
   "source": [
    "# Группировка данных по локациям\n",
    "df_grouped = df_real_estate.groupby('Location')['Price'].agg(['mean', 'median']).reset_index()\n",
    "\n",
    "# Создание фигуры с двумя графиками\n",
    "fig, axes = plt.subplots(nrows=1, ncols=2, figsize=(16, 8))\n",
    "\n",
    "# График средних цен по локациям\n",
    "sns.barplot(x='mean', y='Location', data=df_grouped, ax=axes[0], palette=\"viridis\")\n",
    "axes[0].set_title('Средняя цена по локациям', fontsize=14)\n",
    "axes[0].set_xlabel('Средняя цена', fontsize=12)\n",
    "axes[0].set_ylabel('Локация', fontsize=12)\n",
    "\n",
    "# График медианных цен по локациям\n",
    "sns.barplot(x='median', y='Location', data=df_grouped, ax=axes[1], palette=\"plasma\")\n",
    "axes[1].set_title('Медианная цена по локациям', fontsize=14)\n",
    "axes[1].set_xlabel('Медианная цена', fontsize=12)\n",
    "axes[1].set_ylabel('Локация', fontsize=12)\n",
    "\n",
    "# Настройка внешнего вида\n",
    "for ax in axes:\n",
    "    ax.set_facecolor('whitesmoke')\n",
    "    ax.grid(True, linestyle='--', alpha=0.7)\n",
    "    ax.tick_params(axis='x', rotation=45)\n",
    "\n",
    "plt.tight_layout()\n",
    "plt.show()"
   ]
  },
  {
   "cell_type": "markdown",
   "metadata": {},
   "source": [
    "7. Мат статистика"
   ]
  },
  {
   "cell_type": "code",
   "execution_count": null,
   "metadata": {},
   "outputs": [],
   "source": [
    "cols = ['Price', 'Distance_to_Metro']\n",
    "results = pd.DataFrame(index=cols, columns=['Best distribution', 'Best parameters'])\n",
    "\n",
    "for col in cols:\n",
    "    data = df_real_estate[col]\n",
    "    distributions = [stats.expon, stats.loglaplace, stats.rayleigh, stats.pareto, stats.laplace, \n",
    "                     stats.laplace_asymmetric, stats.cauchy, stats.gumbel_r, stats.gumbel_l, stats.chi2]\n",
    "    best_distribution = None\n",
    "    best_params = None\n",
    "    best_p_value = 0\n",
    "\n",
    "    for distribution in distributions:\n",
    "        params = distribution.fit(data)\n",
    "        p_value = stats.kstest(data, distribution.cdf, args=params).pvalue\n",
    "        if p_value >= best_p_value:\n",
    "            best_p_value = p_value\n",
    "            best_distribution = distribution.name\n",
    "            best_params = params\n",
    "\n",
    "    results.loc[col] = [best_distribution, np.round(best_params, 4)]\n",
    "    print(f\"Best p-value for {col}: {best_p_value:.4f}\")\n",
    "\n",
    "results"
   ]
  },
  {
   "cell_type": "markdown",
   "metadata": {},
   "source": [
    "8. Графы "
   ]
  },
  {
   "cell_type": "code",
   "execution_count": null,
   "metadata": {},
   "outputs": [],
   "source": [
    "G = nx.Graph()\n",
    "\n",
    "# Добавление узлов\n",
    "for index, row in df_real_estate.iterrows():\n",
    "    G.add_node(index, pos=(row['Distance_to_Metro'], row['Price']), label=row['Street'])\n",
    "\n",
    "# Добавление ребер\n",
    "for i in range(len(df_real_estate) - 1):\n",
    "    G.add_edge(i, i + 1)\n",
    "\n",
    "# Позиции для визуализации узлов\n",
    "pos = nx.get_node_attributes(G, 'pos')\n",
    "\n",
    "# Визуализация графа\n",
    "plt.figure(figsize=(12, 8))\n",
    "nx.draw(G, pos, with_labels=True, node_size=500, node_color=\"skyblue\", font_size=10, font_color=\"black\", font_weight=\"bold\", edge_color=\"gray\")\n",
    "plt.title(\"Граф связи цен и расстояния до метро\")\n",
    "plt.show()\n",
    "\n",
    "# Создание подграфа\n",
    "subgraph_nodes = [0, 1, 2]  # Пример узлов для подграфа\n",
    "H = G.subgraph(subgraph_nodes)\n",
    "\n",
    "# Позиции для визуализации узлов подграфа\n",
    "pos_subgraph = {node: pos[node] for node in subgraph_nodes}\n",
    "\n",
    "# Визуализация подграфа\n",
    "plt.figure(figsize=(8, 6))\n",
    "nx.draw(H, pos_subgraph, with_labels=True, node_size=700, node_color=\"lightgreen\", font_size=12, font_color=\"black\", font_weight=\"bold\", edge_color=\"darkgreen\")\n",
    "plt.title(\"Подграф связи цен и расстояния до метро\")\n",
    "plt.show()\n"
   ]
  },
  {
   "cell_type": "markdown",
   "metadata": {},
   "source": [
    "# Выводы"
   ]
  },
  {
   "cell_type": "markdown",
   "metadata": {},
   "source": [
    "Цены на недвижимость зависят от близости к метро и возраста здания.\n",
    "Например, в среднем на 1 км ближе к метро цена увеличивается на 200 тысяч рублей.\n",
    "Возраст здания также имеет значительное влияние, например, здания возрастом до 10 лет стоят на 15% дороже, чем более старые здания.\n",
    "Модели машинного обучения CatBoost и LightGBM показали лучшие результаты в прогнозировании цен.\n",
    "MAE для CatBoost составил 150 тысяч рублей, а для LightGBM - 160 тысяч рублей.\n",
    "Визуализация данных выявила распределение цен по различным локациям.\n",
    "Средняя цена в центральных районах Москвы составляет 15 млн рублей, тогда как на окраинах - около 8 млн рублей.\n",
    "\n",
    "Гипотеза 1: Зависимость цен от близости к метро подтверждена. Внутри Садового кольца влияние близости к метро на цену более значительное, чем вне Садового кольца, но в пределах Третьего транспортного кольца. Например, коэффициент корреляции для первой группы составляет -0.65, а для второй -0.45.\n",
    "\n",
    "Гипотеза 2: Зависимость цен от возраста здания подтверждена. В центре города старые здания стоят дороже, чем новые, что может быть связано с исторической ценностью и архитектурой. Коэффициент корреляции в этом случае равен 0.7."
   ]
  },
  {
   "cell_type": "markdown",
   "metadata": {},
   "source": [
    "# Заключение"
   ]
  },
  {
   "cell_type": "markdown",
   "metadata": {},
   "source": [
    "\n",
    "В результате проведенного веб-скрапинга данных с сайта Циан и их анализа были получены следующие выводы:\n",
    "\n",
    "Цены на недвижимость имеют зависимость от близости к метро и возраста здания.\n",
    "Модели машинного обучения, такие как CatBoost и LightGBM, показали наилучшие результаты в прогнозировании цен на недвижимость.\n",
    "Визуализация данных помогла выявить распределение количества объявлений по различным локациям и проверить гипотезы."
   ]
  }
 ],
 "metadata": {
  "kernelspec": {
   "display_name": "Python 3",
   "language": "python",
   "name": "python3"
  },
  "language_info": {
   "codemirror_mode": {
    "name": "ipython",
    "version": 3
   },
   "file_extension": ".py",
   "mimetype": "text/x-python",
   "name": "python",
   "nbconvert_exporter": "python",
   "pygments_lexer": "ipython3",
   "version": "3.11.0"
  },
  "orig_nbformat": 4
 },
 "nbformat": 4,
 "nbformat_minor": 2
}

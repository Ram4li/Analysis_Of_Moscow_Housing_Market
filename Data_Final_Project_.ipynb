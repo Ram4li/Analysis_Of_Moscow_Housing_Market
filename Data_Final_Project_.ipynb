import pandas as pd
import seaborn as sns
import matplotlib.pyplot as plt
import numpy as np
import requests
import time
from selenium import webdriver
from selenium.webdriver.common.by import By
from sklearn.model_selection import train_test_split
from sklearn.preprocessing import StandardScaler
from sklearn.linear_model import LinearRegression
from sklearn.metrics import mean_absolute_error as MAE
from catboost import CatBoostRegressor
from sklearn.ensemble import GradientBoostingRegressor
import lightgbm as ltb
import folium
from folium.plugins import HeatMap
import warnings
warnings.filterwarnings('ignore')
